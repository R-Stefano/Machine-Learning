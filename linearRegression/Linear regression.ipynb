{
 "cells": [
  {
   "cell_type": "markdown",
   "metadata": {},
   "source": [
    "# Linear regression"
   ]
  },
  {
   "cell_type": "markdown",
   "metadata": {},
   "source": [
    "After see [how linear regression works](http://demiledge.com/artificialIntelligence/linearRegression.php). Let's start this journey inside machine learning and its tools with the basic and most intuitive model, a simple linear regression model. My aim at the moment is not trying to find a good result but explain the fundamentals of machine learning and in my opinion, the basic question : Compared to the human learning process, how we can emulate it in machines?"
   ]
  },
  {
   "cell_type": "markdown",
   "metadata": {},
   "source": [
    "## Data representation"
   ]
  },
  {
   "cell_type": "code",
   "execution_count": 12,
   "metadata": {},
   "outputs": [
    {
     "data": {
      "text/html": [
       "<div>\n",
       "<style scoped>\n",
       "    .dataframe tbody tr th:only-of-type {\n",
       "        vertical-align: middle;\n",
       "    }\n",
       "\n",
       "    .dataframe tbody tr th {\n",
       "        vertical-align: top;\n",
       "    }\n",
       "\n",
       "    .dataframe thead th {\n",
       "        text-align: right;\n",
       "    }\n",
       "</style>\n",
       "<table border=\"1\" class=\"dataframe\">\n",
       "  <thead>\n",
       "    <tr style=\"text-align: right;\">\n",
       "      <th></th>\n",
       "      <th>Unnamed: 0</th>\n",
       "      <th>price</th>\n",
       "      <th>lotsize</th>\n",
       "      <th>bedrooms</th>\n",
       "      <th>bathrms</th>\n",
       "      <th>stories</th>\n",
       "      <th>driveway</th>\n",
       "      <th>recroom</th>\n",
       "      <th>fullbase</th>\n",
       "      <th>gashw</th>\n",
       "      <th>airco</th>\n",
       "      <th>garagepl</th>\n",
       "      <th>prefarea</th>\n",
       "    </tr>\n",
       "  </thead>\n",
       "  <tbody>\n",
       "    <tr>\n",
       "      <th>0</th>\n",
       "      <td>1</td>\n",
       "      <td>42000.0</td>\n",
       "      <td>5850</td>\n",
       "      <td>3</td>\n",
       "      <td>1</td>\n",
       "      <td>2</td>\n",
       "      <td>yes</td>\n",
       "      <td>no</td>\n",
       "      <td>yes</td>\n",
       "      <td>no</td>\n",
       "      <td>no</td>\n",
       "      <td>1</td>\n",
       "      <td>no</td>\n",
       "    </tr>\n",
       "    <tr>\n",
       "      <th>1</th>\n",
       "      <td>2</td>\n",
       "      <td>38500.0</td>\n",
       "      <td>4000</td>\n",
       "      <td>2</td>\n",
       "      <td>1</td>\n",
       "      <td>1</td>\n",
       "      <td>yes</td>\n",
       "      <td>no</td>\n",
       "      <td>no</td>\n",
       "      <td>no</td>\n",
       "      <td>no</td>\n",
       "      <td>0</td>\n",
       "      <td>no</td>\n",
       "    </tr>\n",
       "    <tr>\n",
       "      <th>2</th>\n",
       "      <td>3</td>\n",
       "      <td>49500.0</td>\n",
       "      <td>3060</td>\n",
       "      <td>3</td>\n",
       "      <td>1</td>\n",
       "      <td>1</td>\n",
       "      <td>yes</td>\n",
       "      <td>no</td>\n",
       "      <td>no</td>\n",
       "      <td>no</td>\n",
       "      <td>no</td>\n",
       "      <td>0</td>\n",
       "      <td>no</td>\n",
       "    </tr>\n",
       "    <tr>\n",
       "      <th>3</th>\n",
       "      <td>4</td>\n",
       "      <td>60500.0</td>\n",
       "      <td>6650</td>\n",
       "      <td>3</td>\n",
       "      <td>1</td>\n",
       "      <td>2</td>\n",
       "      <td>yes</td>\n",
       "      <td>yes</td>\n",
       "      <td>no</td>\n",
       "      <td>no</td>\n",
       "      <td>no</td>\n",
       "      <td>0</td>\n",
       "      <td>no</td>\n",
       "    </tr>\n",
       "    <tr>\n",
       "      <th>4</th>\n",
       "      <td>5</td>\n",
       "      <td>61000.0</td>\n",
       "      <td>6360</td>\n",
       "      <td>2</td>\n",
       "      <td>1</td>\n",
       "      <td>1</td>\n",
       "      <td>yes</td>\n",
       "      <td>no</td>\n",
       "      <td>no</td>\n",
       "      <td>no</td>\n",
       "      <td>no</td>\n",
       "      <td>0</td>\n",
       "      <td>no</td>\n",
       "    </tr>\n",
       "  </tbody>\n",
       "</table>\n",
       "</div>"
      ],
      "text/plain": [
       "   Unnamed: 0    price  lotsize  bedrooms  bathrms  stories driveway recroom  \\\n",
       "0           1  42000.0     5850         3        1        2      yes      no   \n",
       "1           2  38500.0     4000         2        1        1      yes      no   \n",
       "2           3  49500.0     3060         3        1        1      yes      no   \n",
       "3           4  60500.0     6650         3        1        2      yes     yes   \n",
       "4           5  61000.0     6360         2        1        1      yes      no   \n",
       "\n",
       "  fullbase gashw airco  garagepl prefarea  \n",
       "0      yes    no    no         1       no  \n",
       "1       no    no    no         0       no  \n",
       "2       no    no    no         0       no  \n",
       "3       no    no    no         0       no  \n",
       "4       no    no    no         0       no  "
      ]
     },
     "execution_count": 12,
     "metadata": {},
     "output_type": "execute_result"
    }
   ],
   "source": [
    "import pandas as pd\n",
    "dataset=pd.read_csv(\"Housing.csv\")\n",
    "dataset.head()"
   ]
  },
  {
   "cell_type": "markdown",
   "metadata": {},
   "source": [
    "As we can notice from the first 5 examples, each record has 12 features. What I want to do is use the *lotsize* feature to **predict** the house price. The *house price* is a continous variables, so it is going to be a **regression problem**. I want that my model recognizes and understands, how the values of *lotsize* affect the house price, extrapolating the inner information carried by the feature, that's it.\n"
   ]
  },
  {
   "cell_type": "markdown",
   "metadata": {},
   "source": [
    "The input data that I need is the feauture *lotsize* that can be retrieved in the following way"
   ]
  },
  {
   "cell_type": "code",
   "execution_count": 13,
   "metadata": {},
   "outputs": [
    {
     "data": {
      "text/plain": [
       "0    5850\n",
       "1    4000\n",
       "2    3060\n",
       "3    6650\n",
       "4    6360\n",
       "Name: lotsize, dtype: int64"
      ]
     },
     "execution_count": 13,
     "metadata": {},
     "output_type": "execute_result"
    }
   ],
   "source": [
    "inputData=dataset['lotsize']\n",
    "inputData.head()"
   ]
  },
  {
   "cell_type": "markdown",
   "metadata": {},
   "source": [
    "Now, is the turn of the labels, the feature that the model should be able to predict given the input"
   ]
  },
  {
   "cell_type": "code",
   "execution_count": 14,
   "metadata": {},
   "outputs": [
    {
     "data": {
      "text/plain": [
       "0    42000.0\n",
       "1    38500.0\n",
       "2    49500.0\n",
       "3    60500.0\n",
       "4    61000.0\n",
       "Name: price, dtype: float64"
      ]
     },
     "execution_count": 14,
     "metadata": {},
     "output_type": "execute_result"
    }
   ],
   "source": [
    "labels=dataset['price']\n",
    "labels.head()"
   ]
  },
  {
   "cell_type": "markdown",
   "metadata": {},
   "source": [
    "Now that we have our data, Is good practice to plot them on a 2D plane in order to have some insight about how the data are relate. Using matplotlib, the `%matplotlib inline` command is used to display matplotlib in jupyter notebook."
   ]
  },
  {
   "cell_type": "code",
   "execution_count": 15,
   "metadata": {},
   "outputs": [],
   "source": [
    "import matplotlib\n",
    "import matplotlib.pyplot as plt\n",
    "%matplotlib inline "
   ]
  },
  {
   "cell_type": "markdown",
   "metadata": {},
   "source": [
    "I want plot my dataset using the x-axis for the feature *lostzie* and for the y-axis the value that we want to predict: *house price*."
   ]
  },
  {
   "cell_type": "code",
   "execution_count": 16,
   "metadata": {},
   "outputs": [],
   "source": [
    "x_axis=inputData\n",
    "y_axis=labels"
   ]
  },
  {
   "cell_type": "markdown",
   "metadata": {},
   "source": [
    "I'm going to plot the first 50 examples in order to keep the diagram clean. The code below basically says,\n",
    "for every example in the dataset, take the *lotsize* on the x axis and the *house price* on the y one. Then, plot the example in the 2Dplane, repeat the process 50 times. For instance, the first example has idx=0, so its \n",
    "feature will be the data list in index 0 and its label in list labels on idx 0."
   ]
  },
  {
   "cell_type": "code",
   "execution_count": 17,
   "metadata": {},
   "outputs": [
    {
     "data": {
      "image/png": "[encoded data removed]",
      "text/plain": [
       "<matplotlib.figure.Figure at 0x7f168db7c2e8>"
      ]
     },
     "metadata": {},
     "output_type": "display_data"
    }
   ],
   "source": [
    "for idx in range(50):\n",
    "    plt.plot(x_axis[idx], y_axis[idx], marker=\"o\", c=\"blue\")\n",
    "plt.xlabel(\"Lotsize\")\n",
    "plt.ylabel(\"House price\")\n",
    "plt.show()"
   ]
  },
  {
   "cell_type": "markdown",
   "metadata": {},
   "source": [
    "As you can see, our model has a rappresentation for each examples, If the lotsize=5850, the price=42000. Now, it has to learn \"the rule\" that allow him to correctly predict the *house price*. It has to learn the function that minimize the distance between all the points."
   ]
  },
  {
   "cell_type": "markdown",
   "metadata": {},
   "source": [
    "## The model"
   ]
  },
  {
   "cell_type": "markdown",
   "metadata": {},
   "source": [
    "We have just 1 feature which means that we need just 1 parameter linked to the feature plus a bias, the function is a simple straight line given by the formula"
   ]
  },
  {
   "cell_type": "markdown",
   "metadata": {
    "slideshow": {
     "slide_type": "-"
    }
   },
   "source": [
    "<img src=\"images/linear1.gif\" >"
   ]
  },
  {
   "cell_type": "markdown",
   "metadata": {
    "slideshow": {
     "slide_type": "-"
    }
   },
   "source": [
    "Where x is our input value *lotsize*, while our f(x) is the *house price* value that the model thinks is the most appropriate one for the given x. The simple straight line requires a parameter *a* which defines the slope of the line and a parameter *b* which defines the intersection with the y axis. In order to correctly classify the examples and learn the rule, **the model has to find the best values for these parameters** using some optimization technique."
   ]
  },
  {
   "cell_type": "markdown",
   "metadata": {},
   "source": [
    "The data retrieved are in serie format and we have to convert it to numpy array. So, we need to convert them and scale between -1 and 1. I scaled because otherwise the error would become too bigger.\n",
    ">**N.B** If you want to scale some data, you have to do for all the data, all the inputs and the output, otherwise you lost the correlation."
   ]
  },
  {
   "cell_type": "markdown",
   "metadata": {},
   "source": [
    "Then initialize a,b to whatever value (i choose 0) and the **learning rate**. Before start the training process I define some empty lists which are going to store how the error and parameters change over time for illustration purposes. Now, we are ready to train the model.\n",
    "\n",
    "For each epoch, compute the error and the derivates of the parameters respect to the error. In order to achieve this, Iterate through all the examples. Then, store the values of the epoch and update the parameters."
   ]
  },
  {
   "cell_type": "markdown",
   "metadata": {},
   "source": [
    "## Cost function and training"
   ]
  },
  {
   "cell_type": "code",
   "execution_count": 18,
   "metadata": {},
   "outputs": [
    {
     "name": "stderr",
     "output_type": "stream",
     "text": [
      "/usr/local/lib/python3.5/dist-packages/sklearn/utils/validation.py:475: DataConversionWarning: Data with input dtype int64 was converted to float64 by the scale function.\n",
      "  warnings.warn(msg, DataConversionWarning)\n"
     ]
    },
    {
     "name": "stdout",
     "output_type": "stream",
     "text": [
      "a= 0.5358 \n",
      "b= -0.0000\n",
      "cost: 0.7129 \n"
     ]
    }
   ],
   "source": [
    "import numpy as np\n",
    "from sklearn import preprocessing\n",
    "\n",
    "#convert dataframe serie to numpy array\n",
    "x=inputData.values\n",
    "y=labels.values\n",
    "\n",
    "#scale them\n",
    "x=preprocessing.scale(x)\n",
    "y=preprocessing.scale(y)\n",
    "\n",
    "\n",
    "a=0\n",
    "b=0\n",
    "N=float(len(x))\n",
    "epochs=5000\n",
    "learnRate=0.001\n",
    "\n",
    "#for error diagram\n",
    "epochsList=[]\n",
    "errors=[]\n",
    "aList=[]\n",
    "bList=[]\n",
    "\n",
    "for epoch in range(epochs):\n",
    "    error=0\n",
    "    a_deriv=0\n",
    "    b_deriv=0\n",
    "    for idx in range(len(x)):\n",
    "        output=a*x[idx] + b\n",
    "        error+=((y[idx]-output)**2)/N\n",
    "\n",
    "        a_deriv += -(2/N)*x[idx]*(y[idx]-output)\n",
    "        b_deriv += -(2/N)*(y[idx]-output)\n",
    "\n",
    "    #append results for the diagram\n",
    "    epochsList.append(epoch)\n",
    "    aList.append(a)\n",
    "    bList.append(b)\n",
    "    errors.append(error)\n",
    "    #update parameters\n",
    "    a=a- (learnRate*a_deriv)\n",
    "    b=b- (learnRate*b_deriv)\n",
    "\n",
    "print(\"a= %.4f \" %a)\n",
    "print(\"b= %.4f\" %b)\n",
    "print(\"cost: %.4f \" %error)"
   ]
  },
  {
   "cell_type": "code",
   "execution_count": 19,
   "metadata": {},
   "outputs": [
    {
     "data": {
      "image/png": "[encoded data removed]",
      "text/plain": [
       "<matplotlib.figure.Figure at 0x7f168dafad30>"
      ]
     },
     "metadata": {},
     "output_type": "display_data"
    }
   ],
   "source": [
    "f, ((ax1, ax2), (ax3, ax4))=plt.subplots(2,2)\n",
    "ax1.plot(x, y, 'o', c='red')\n",
    "ax1.plot(x, a*x + b, '-')\n",
    "ax1.set_title('plot')\n",
    "\n",
    "ax2.plot(epochsList, errors, '-')\n",
    "ax2.set_title('Error')\n",
    "ax2.set_xlabel('Epochs')\n",
    "ax2.set_ylabel('Error')\n",
    "\n",
    "ax3.plot(epochsList, aList, '-')\n",
    "ax3.set_title('A Value')\n",
    "ax3.set_xlabel('Epochs')\n",
    "ax3.set_ylabel('A Value')\n",
    "\n",
    "ax4.plot(epochsList, bList, '-')\n",
    "ax4.set_title('B Value')\n",
    "ax4.set_xlabel('Epochs')\n",
    "ax4.set_ylabel('B Value')\n",
    "\n",
    "f.subplots_adjust(hspace=0.5, wspace=0.5)\n",
    "f.set_size_inches(15.5, 10.5)"
   ]
  },
  {
   "cell_type": "markdown",
   "metadata": {},
   "source": [
    "The *plot* shows how the model fit with the **scaled** data, the *error* shows how the error change over each epoch. It decreased which means that the model learned to predict the *house price*. While the plots *A value* and *B value* shows how the parameters changed over the epochs"
   ]
  }
 ],
 "metadata": {
  "kernelspec": {
   "display_name": "Python 3",
   "language": "python",
   "name": "python3"
  },
  "language_info": {
   "codemirror_mode": {
    "name": "ipython",
    "version": 3
   },
   "file_extension": ".py",
   "mimetype": "text/x-python",
   "name": "python",
   "nbconvert_exporter": "python",
   "pygments_lexer": "ipython3",
   "version": "3.5.2"
  }
 },
 "nbformat": 4,
 "nbformat_minor": 2
}
